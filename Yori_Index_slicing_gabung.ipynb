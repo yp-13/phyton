{
 "cells": [
  {
   "cell_type": "code",
   "execution_count": 8,
   "id": "860cd55b-4c68-4155-b34f-289b517753de",
   "metadata": {},
   "outputs": [
    {
     "name": "stdout",
     "output_type": "stream",
     "text": [
      "Index List\n",
      "10\n",
      "30\n",
      "50\n",
      "50\n",
      "40\n",
      "10\n",
      "Banyaknya Elemen\n",
      "5\n"
     ]
    }
   ],
   "source": [
    "#Dalam Phyton mirip dengan array normal\n",
    "#Dalam List, elemen tidak diindeks berdasarkan kunci (key) tertentu \n",
    "#indeks bilangan selalu diawali dari nilai nol (0)\n",
    "#Indeks negatif ditentukan dari arah kanan, dan dimulai dari -1\n",
    "#Bentuk umum : nama_list = [Nilai1, Nilai2, Nilai3,...]\n",
    "\n",
    "# Contoh \n",
    "list = [10, 20, 30, 40, 50,]\n",
    "\n",
    "#indeks elemen didalam list berdasarkan posisi\n",
    "print ('Index List')\n",
    "print (list[0]) #bernilai 10\n",
    "print (list[2]) #bernilai 30 \n",
    "print (list[4]) #bernilai 50 \n",
    "print (list[-1]) #bernilai 50\n",
    "print (list[-2]) #bernilai 40\n",
    "print (list[-5]) #bernilai 10\n",
    "print ('Banyaknya Elemen')\n",
    "print (len(list))\n"
   ]
  },
  {
   "cell_type": "code",
   "execution_count": 20,
   "id": "66fcc16b-4efc-4f2c-b491-153591bb4e4b",
   "metadata": {},
   "outputs": [
    {
     "name": "stdout",
     "output_type": "stream",
     "text": [
      "sebelum dipotong \n",
      "[10, 20, 30, 40, 50]\n",
      "sesudah dipotong\n",
      "[10]\n",
      "[50]\n",
      "[10, 20, 30, 40]\n"
     ]
    }
   ],
   "source": [
    "list = [10, 20, 30, 40, 50,]\n",
    "#Slicing (memotong) elemen didalam list\n",
    "print ('sebelum dipotong ')\n",
    "print (list)\n",
    "print ('sesudah dipotong')\n",
    "print (list[:1]) #:1 (dikarnakan misal titik dua didepan, yang dihitung kekiri)\n",
    "print (list[-1:]) #-1: (memotong angka 50 dan dihitung kekanan sampai seterusnya )\n",
    "print (list[:-1]) #-1: (dikarnakan misal titik dua didepan, yang dihitung kekiri)"
   ]
  },
  {
   "cell_type": "code",
   "execution_count": 22,
   "id": "08a340b4-d4a2-4e76-8d6d-290c90a93b56",
   "metadata": {},
   "outputs": [
    {
     "name": "stdout",
     "output_type": "stream",
     "text": [
      "sebelum digabung :\n",
      "[10, 20, 30, 40, 50]\n",
      "sesudah digabung :\n",
      "[10, 20, 30, 40, 50, 1000, 2000, 3000, 4000, 1000000, 300000000, 400000000, 5000000000]\n"
     ]
    }
   ],
   "source": [
    "list = [10, 20, 30, 40, 50,]\n",
    "\n",
    "#penggabungan elemen list dan membuat daftar list baru \n",
    "print ('sebelum digabung :')\n",
    "print (list)\n",
    "print ('sesudah digabung :')\n",
    "print (list+[1000,2000,3000,4000,1000000,300000000,400000000,5000000000])"
   ]
  },
  {
   "cell_type": "code",
   "execution_count": null,
   "id": "8b84b9ca-339a-4438-ba3f-51be519de0cd",
   "metadata": {},
   "outputs": [],
   "source": []
  }
 ],
 "metadata": {
  "kernelspec": {
   "display_name": "Python 3 (ipykernel)",
   "language": "python",
   "name": "python3"
  },
  "language_info": {
   "codemirror_mode": {
    "name": "ipython",
    "version": 3
   },
   "file_extension": ".py",
   "mimetype": "text/x-python",
   "name": "python",
   "nbconvert_exporter": "python",
   "pygments_lexer": "ipython3",
   "version": "3.12.4"
  }
 },
 "nbformat": 4,
 "nbformat_minor": 5
}
