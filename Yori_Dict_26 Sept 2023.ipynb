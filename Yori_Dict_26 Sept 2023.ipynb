{
 "cells": [
  {
   "cell_type": "code",
   "execution_count": 18,
   "id": "a76289c9-79f6-441d-9fb3-b669119e9613",
   "metadata": {},
   "outputs": [
    {
     "name": "stdout",
     "output_type": "stream",
     "text": [
      "dic['mahasiswa']: Yori\n",
      "dic['prodi']: mekatronika\n"
     ]
    }
   ],
   "source": [
    "# dalam phyton, Dictionary  disebut juga sebagai \"mapping\", identik dengan array asos\n",
    "# indeks type string \n",
    "# type data : 1) key; 2) value \n",
    "# Bentuk umum : variabel = (key1:value, key2:value)\n",
    "\n",
    "# contoh \n",
    "dic = ('') # jangan lupa tand apetik ('')\n",
    "dic = {'mahasiswa':'Yori','prodi':'mekatronika'}\n",
    "print(\"dic['mahasiswa']:\",dic['mahasiswa'])\n",
    "print(\"dic['prodi']:\",dic['prodi'])\n"
   ]
  },
  {
   "cell_type": "code",
   "execution_count": 3,
   "id": "353bdc90-84e4-477b-9d0f-e6f3764661e6",
   "metadata": {},
   "outputs": [
    {
     "name": "stdout",
     "output_type": "stream",
     "text": [
      "nama: yori\n",
      "tglahir: 13-01-2005\n",
      "tempatlahir: bekasi\n",
      "alamat: cikarang\n",
      "hobby: olahraga\n"
     ]
    }
   ],
   "source": [
    "dic = {'nama':'yori','tglahir':'13-01-2005','tempatlahir':'bekasi','alamat':'cikarang','hobby':'olahraga'}\n",
    "print(\"nama:\", dic['nama'])\n",
    "print(\"tglahir:\", dic['tglahir'])\n",
    "print(\"tempatlahir:\", dic['tempatlahir'])\n",
    "print(\"alamat:\", dic['alamat'])\n",
    "print(\"hobby:\", dic['hobby'])\n"
   ]
  },
  {
   "cell_type": "code",
   "execution_count": 5,
   "id": "399f9f33-d6c5-481e-8b32-6b003435a13e",
   "metadata": {},
   "outputs": [
    {
     "name": "stdout",
     "output_type": "stream",
     "text": [
      "satu: 5\n",
      "dua: 10\n",
      "hasil: 0.5\n"
     ]
    }
   ],
   "source": [
    "# variabel dictionary \n",
    "dic = {'satu':5,'dua':10,'tiga':100}\n",
    "print(\"satu:\",dic['satu'])\n",
    "print(\"dua:\",dic['dua'])\n",
    "print(\"hasil:\", dic['satu']/dic['dua'])"
   ]
  },
  {
   "cell_type": "code",
   "execution_count": 7,
   "id": "9131d7d6-119c-4287-bf58-81cf817e4dea",
   "metadata": {},
   "outputs": [
    {
     "name": "stdout",
     "output_type": "stream",
     "text": [
      "nama: yori\n",
      "tglahir: 13-01-2005\n",
      "tempatlahir: bekasi\n",
      "alamat: cikarang\n",
      "hobby: olahraga\n"
     ]
    }
   ],
   "source": [
    "dic = {'nama':'yori','tglahir':'13-01-2005','tempatlahir':'bekasi','alamat':'cikarang','hobby':'olahraga'}\n",
    "print(\"nama:\", dic['nama'])\n",
    "print(\"tglahir:\", dic['tglahir'])\n",
    "print(\"tempatlahir:\", dic['tempatlahir'])\n",
    "print(\"alamat:\", dic['alamat'])\n",
    "print(\"hobby:\", dic['hobby'])"
   ]
  },
  {
   "cell_type": "code",
   "execution_count": 35,
   "id": "af694a64-6ab4-41aa-a01e-c2d1ba0ddcf1",
   "metadata": {},
   "outputs": [
    {
     "name": "stdout",
     "output_type": "stream",
     "text": [
      "dic['Nama']: YORI\n",
      "dic['Mata Kuliah']: AUTOCEDO\n",
      "dic['Nilai UTS': 100\n",
      "dic['Nilai UAS': 100\n",
      "Nilai UTS + Nilai UAS: 200\n",
      "{'Nama': 'YORI', 'Mata Kuliah': 'AUTOCEDO', 'Nilai UTS': 100, 'Nilai UAS': 100, 'Hasil': 'Lulus'}\n",
      "{'Nama': 'YORI', 'Mata Kuliah': 'AUTOCEDO', 'Nilai UTS': 38, 'Nilai UAS': 46, 'Hasil': 'Tidak Lulus'}\n",
      "{'Nama': 'YORI', 'Mata Kuliah': 'AUTOCEDO', 'Nilai UTS': 38, 'Nilai UAS': 46}\n"
     ]
    }
   ],
   "source": [
    "dic = {'Nama':'YORI', 'Mata Kuliah':'AUTOCEDO', 'Nilai UTS':'100', 'Nilai UAS':'100', 'Nilai UTS + Nilai UAS':'200'}\n",
    "\n",
    "print(\"dic['Nama']:\", dic['Nama'])\n",
    "print(\"dic['Mata Kuliah']:\", dic['Mata Kuliah'])\n",
    "print(\"dic['Nilai UTS':\", dic['Nilai UTS'])\n",
    "print(\"dic['Nilai UAS':\", dic['Nilai UAS'])\n",
    "\n",
    "dic = {'Nilai UTS':100, 'Nilai UAS':100}\n",
    "print(\"Nilai UTS + Nilai UAS:\", (dic['Nilai UTS'] + dic['Nilai UAS']))\n",
    "\n",
    "dic ={'Nama':'YORI', 'Mata Kuliah':'AUTOCEDO', 'Nilai UTS':100, 'Nilai UAS':100}\n",
    "dic['Hasil'] = 'Lulus'\n",
    "print(dic)\n",
    "\n",
    "dic ={'Nama': 'YORI', 'Mata Kuliah': 'AUTOCEDO', 'Nilai UTS': 100, 'Nilai UAS': 100, 'Hasil': 'Lulus'}\n",
    "dic['Nilai UTS'] = 38\n",
    "dic['Nilai UAS'] = 46\n",
    "dic['Hasil'] = 'Tidak Lulus'\n",
    "print(dic)\n",
    "\n",
    "dic ={'Nama': 'YORI', 'Mata Kuliah': 'AUTOCEDO', 'Nilai UTS': 38, 'Nilai UAS': 46, 'Hasil': 'Tidak Lulus'}\n",
    "del dic['Hasil']\n",
    "print(dic)"
   ]
  },
  {
   "cell_type": "code",
   "execution_count": null,
   "id": "f7bd8ed7-8b21-4a1a-aaf6-1e737e9416e4",
   "metadata": {},
   "outputs": [],
   "source": []
  }
 ],
 "metadata": {
  "kernelspec": {
   "display_name": "Python 3 (ipykernel)",
   "language": "python",
   "name": "python3"
  },
  "language_info": {
   "codemirror_mode": {
    "name": "ipython",
    "version": 3
   },
   "file_extension": ".py",
   "mimetype": "text/x-python",
   "name": "python",
   "nbconvert_exporter": "python",
   "pygments_lexer": "ipython3",
   "version": "3.12.4"
  }
 },
 "nbformat": 4,
 "nbformat_minor": 5
}
