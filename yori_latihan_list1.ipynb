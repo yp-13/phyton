{
 "cells": [
  {
   "cell_type": "code",
   "execution_count": 79,
   "id": "48c6c0e0-d0d6-44e3-9451-bdefb2707b84",
   "metadata": {},
   "outputs": [
    {
     "name": "stdout",
     "output_type": "stream",
     "text": [
      "INDEX\n",
      "Swiss\n",
      "11\n",
      "Zimbabwe\n",
      "7\n",
      "Jepang\n",
      "Banyaknya Elemen\n",
      "10\n"
     ]
    }
   ],
   "source": [
    "#Bilangan Prima (5 Bilangan)\n",
    "#type String (5 Elemen)\n",
    "#Gunakann Perintah : (Index, (ambil min.3 elemen), Slicing (ambil min.3),Gabung (tambah min.3 elemen) \n",
    "\n",
    "#index\n",
    "list1 = ['Zimbabwe','Jepang','Swiss','Australia','Canada']\n",
    "list2 = [2,3,5,7,11]\n",
    "print ('INDEX')\n",
    "print (list1[-3])\n",
    "print (list2[4])\n",
    "print (list1[0])\n",
    "print (list2[3])\n",
    "print (list1[1+-0])\n",
    "print ('Banyaknya Elemen')\n",
    "print (len(list1+list2))\n"
   ]
  },
  {
   "cell_type": "code",
   "execution_count": 69,
   "id": "e938dd2a-de00-4021-a37e-1e1516403bba",
   "metadata": {},
   "outputs": [
    {
     "name": "stdout",
     "output_type": "stream",
     "text": [
      "SLICING\n",
      "['Zimbabwe']\n",
      "[11]\n",
      "['Zimbabwe', 'Jepang', 'Swiss', 'Australia', 'Canada', 2, 3]\n"
     ]
    }
   ],
   "source": [
    "list1 = ['Zimbabwe','Jepang','Swiss','Australia','Canada']\n",
    "list2 = [2,3,5,7,11]\n",
    "#Slicing \n",
    "print ('SLICING')\n",
    "print (list1[:1])\n",
    "print (list2[-1:])\n",
    "print (list1[:5]+list2[:-3])"
   ]
  },
  {
   "cell_type": "code",
   "execution_count": 89,
   "id": "3a07e1df-2730-476b-b17c-de8fb069b346",
   "metadata": {},
   "outputs": [
    {
     "name": "stdout",
     "output_type": "stream",
     "text": [
      "Sebelum Digabung\n",
      "['Zimbabwe', 'Jepang', 'Swiss', 'Australia', 'Canada'] [2, 3, 5, 7, 11]\n",
      "Sesudah Digabung\n",
      "Zimbabwe 7\n",
      "['Zimbabwe', 'Jepang', 'Swiss'] [5, 7, 11]\n",
      "['Zimbabwe', 'Jepang', 'Swiss', 'Australia', 'Canada'] [2, 3, 5, 7, 11]\n"
     ]
    }
   ],
   "source": [
    "list1 = ['Zimbabwe','Jepang','Swiss','Australia','Canada']\n",
    "list2 = [2,3,5,7,11]\n",
    "#Penggabungan\n",
    "print ('Sebelum Digabung')\n",
    "print (list1,list2)\n",
    "print ('Sesudah Digabung')\n",
    "print (list1[0],list2[3])\n",
    "print (list1[:3],list2[-3:])\n",
    "print (list1,list2)"
   ]
  },
  {
   "cell_type": "code",
   "execution_count": null,
   "id": "e5a12062-27f4-42b9-b7b2-0b77410a21c4",
   "metadata": {},
   "outputs": [],
   "source": []
  }
 ],
 "metadata": {
  "kernelspec": {
   "display_name": "Python 3 (ipykernel)",
   "language": "python",
   "name": "python3"
  },
  "language_info": {
   "codemirror_mode": {
    "name": "ipython",
    "version": 3
   },
   "file_extension": ".py",
   "mimetype": "text/x-python",
   "name": "python",
   "nbconvert_exporter": "python",
   "pygments_lexer": "ipython3",
   "version": "3.12.4"
  }
 },
 "nbformat": 4,
 "nbformat_minor": 5
}
