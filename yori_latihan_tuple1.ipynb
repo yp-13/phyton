{
 "cells": [
  {
   "cell_type": "markdown",
   "id": "f6bf5b8e-fe8e-4857-ad18-4004ec389beb",
   "metadata": {},
   "source": [
    "# Tuple\n"
   ]
  },
  {
   "cell_type": "code",
   "execution_count": 20,
   "id": "33931f1d-5e9b-4b8f-be40-3f020dd76cd4",
   "metadata": {},
   "outputs": [
    {
     "name": "stdout",
     "output_type": "stream",
     "text": [
      "<class 'tuple'>\n",
      "('Zimbabwe', 'Jepang', 'Swiss', 'Australia', 'Canada')\n"
     ]
    },
    {
     "ename": "TypeError",
     "evalue": "'tuple' object does not support item assignment",
     "output_type": "error",
     "traceback": [
      "\u001b[1;31m---------------------------------------------------------------------------\u001b[0m",
      "\u001b[1;31mTypeError\u001b[0m                                 Traceback (most recent call last)",
      "Cell \u001b[1;32mIn[20], line 5\u001b[0m\n\u001b[0;32m      2\u001b[0m \u001b[38;5;28mprint\u001b[39m (\u001b[38;5;28mtype\u001b[39m(negara))\n\u001b[0;32m      3\u001b[0m \u001b[38;5;28mprint\u001b[39m (negara)\n\u001b[1;32m----> 5\u001b[0m negara [\u001b[38;5;241m1\u001b[39m] \u001b[38;5;241m=\u001b[39m \u001b[38;5;124m'\u001b[39m\u001b[38;5;124mNepal\u001b[39m\u001b[38;5;124m'\u001b[39m\n",
      "\u001b[1;31mTypeError\u001b[0m: 'tuple' object does not support item assignment"
     ]
    }
   ],
   "source": [
    "# mengubah\n",
    "negara = 'Zimbabwe','Jepang','Swiss','Australia','Canada'\n",
    "print (type(negara))\n",
    "print (negara)\n",
    "\n",
    "negara [1] = 'Nepal'\n"
   ]
  },
  {
   "cell_type": "code",
   "execution_count": 24,
   "id": "0e9d5a4b-7812-42cc-beb6-afa49611acd6",
   "metadata": {},
   "outputs": [
    {
     "name": "stdout",
     "output_type": "stream",
     "text": [
      "('Zimbabwe', 'Jepang', 'Swiss', 'Australia', 'Canada')\n"
     ]
    },
    {
     "ename": "AttributeError",
     "evalue": "'tuple' object has no attribute 'append'",
     "output_type": "error",
     "traceback": [
      "\u001b[1;31m---------------------------------------------------------------------------\u001b[0m",
      "\u001b[1;31mAttributeError\u001b[0m                            Traceback (most recent call last)",
      "Cell \u001b[1;32mIn[24], line 4\u001b[0m\n\u001b[0;32m      1\u001b[0m negara \u001b[38;5;241m=\u001b[39m \u001b[38;5;124m'\u001b[39m\u001b[38;5;124mZimbabwe\u001b[39m\u001b[38;5;124m'\u001b[39m,\u001b[38;5;124m'\u001b[39m\u001b[38;5;124mJepang\u001b[39m\u001b[38;5;124m'\u001b[39m,\u001b[38;5;124m'\u001b[39m\u001b[38;5;124mSwiss\u001b[39m\u001b[38;5;124m'\u001b[39m,\u001b[38;5;124m'\u001b[39m\u001b[38;5;124mAustralia\u001b[39m\u001b[38;5;124m'\u001b[39m,\u001b[38;5;124m'\u001b[39m\u001b[38;5;124mCanada\u001b[39m\u001b[38;5;124m'\u001b[39m\n\u001b[0;32m      2\u001b[0m \u001b[38;5;28mprint\u001b[39m (negara)\n\u001b[1;32m----> 4\u001b[0m negara\u001b[38;5;241m.\u001b[39mappend(panama)\n",
      "\u001b[1;31mAttributeError\u001b[0m: 'tuple' object has no attribute 'append'"
     ]
    }
   ],
   "source": [
    "# menambah\n",
    "negara = 'Zimbabwe','Jepang','Swiss','Australia','Canada'\n",
    "print (negara)\n",
    "\n",
    "negara.append(panama)\n"
   ]
  },
  {
   "cell_type": "code",
   "execution_count": 26,
   "id": "6fd25ab6-f81a-454f-8d79-bf17f4d57d83",
   "metadata": {},
   "outputs": [
    {
     "name": "stdout",
     "output_type": "stream",
     "text": [
      "('Zimbabwe', 'Jepang', 'Swiss', 'Australia', 'Canada')\n"
     ]
    },
    {
     "ename": "AttributeError",
     "evalue": "'tuple' object has no attribute 'extend'",
     "output_type": "error",
     "traceback": [
      "\u001b[1;31m---------------------------------------------------------------------------\u001b[0m",
      "\u001b[1;31mAttributeError\u001b[0m                            Traceback (most recent call last)",
      "Cell \u001b[1;32mIn[26], line 4\u001b[0m\n\u001b[0;32m      1\u001b[0m negara \u001b[38;5;241m=\u001b[39m \u001b[38;5;124m'\u001b[39m\u001b[38;5;124mZimbabwe\u001b[39m\u001b[38;5;124m'\u001b[39m,\u001b[38;5;124m'\u001b[39m\u001b[38;5;124mJepang\u001b[39m\u001b[38;5;124m'\u001b[39m,\u001b[38;5;124m'\u001b[39m\u001b[38;5;124mSwiss\u001b[39m\u001b[38;5;124m'\u001b[39m,\u001b[38;5;124m'\u001b[39m\u001b[38;5;124mAustralia\u001b[39m\u001b[38;5;124m'\u001b[39m,\u001b[38;5;124m'\u001b[39m\u001b[38;5;124mCanada\u001b[39m\u001b[38;5;124m'\u001b[39m\n\u001b[0;32m      2\u001b[0m \u001b[38;5;28mprint\u001b[39m (negara)\n\u001b[1;32m----> 4\u001b[0m negara\u001b[38;5;241m.\u001b[39mextend(paris)\n",
      "\u001b[1;31mAttributeError\u001b[0m: 'tuple' object has no attribute 'extend'"
     ]
    }
   ],
   "source": [
    "# menambah\n",
    "negara = 'Zimbabwe','Jepang','Swiss','Australia','Canada'\n",
    "print (negara)\n",
    "\n",
    "negara.extend(paris)"
   ]
  },
  {
   "cell_type": "code",
   "execution_count": 28,
   "id": "d3898981-d8c2-4e02-a417-f86e4adf6269",
   "metadata": {},
   "outputs": [
    {
     "name": "stdout",
     "output_type": "stream",
     "text": [
      "('Zimbabwe', 'Jepang', 'Swiss', 'Australia', 'Canada')\n"
     ]
    },
    {
     "ename": "AttributeError",
     "evalue": "'tuple' object has no attribute 'remove'",
     "output_type": "error",
     "traceback": [
      "\u001b[1;31m---------------------------------------------------------------------------\u001b[0m",
      "\u001b[1;31mAttributeError\u001b[0m                            Traceback (most recent call last)",
      "Cell \u001b[1;32mIn[28], line 4\u001b[0m\n\u001b[0;32m      1\u001b[0m negara \u001b[38;5;241m=\u001b[39m \u001b[38;5;124m'\u001b[39m\u001b[38;5;124mZimbabwe\u001b[39m\u001b[38;5;124m'\u001b[39m,\u001b[38;5;124m'\u001b[39m\u001b[38;5;124mJepang\u001b[39m\u001b[38;5;124m'\u001b[39m,\u001b[38;5;124m'\u001b[39m\u001b[38;5;124mSwiss\u001b[39m\u001b[38;5;124m'\u001b[39m,\u001b[38;5;124m'\u001b[39m\u001b[38;5;124mAustralia\u001b[39m\u001b[38;5;124m'\u001b[39m,\u001b[38;5;124m'\u001b[39m\u001b[38;5;124mCanada\u001b[39m\u001b[38;5;124m'\u001b[39m\n\u001b[0;32m      2\u001b[0m \u001b[38;5;28mprint\u001b[39m (negara)\n\u001b[1;32m----> 4\u001b[0m negara\u001b[38;5;241m.\u001b[39mremove(paris)\n",
      "\u001b[1;31mAttributeError\u001b[0m: 'tuple' object has no attribute 'remove'"
     ]
    }
   ],
   "source": [
    "# menghapus\n",
    "negara = 'Zimbabwe','Jepang','Swiss','Australia','Canada'\n",
    "print (negara)\n",
    "\n",
    "negara.remove(paris)"
   ]
  },
  {
   "cell_type": "code",
   "execution_count": 30,
   "id": "045b9f9c-4bbd-48f0-ae33-632fedd59e1c",
   "metadata": {},
   "outputs": [
    {
     "name": "stdout",
     "output_type": "stream",
     "text": [
      "('Zimbabwe', 'Jepang', 'Swiss', 'Australia', 'Canada')\n"
     ]
    },
    {
     "ename": "NameError",
     "evalue": "name 'paris' is not defined",
     "output_type": "error",
     "traceback": [
      "\u001b[1;31m---------------------------------------------------------------------------\u001b[0m",
      "\u001b[1;31mNameError\u001b[0m                                 Traceback (most recent call last)",
      "Cell \u001b[1;32mIn[30], line 4\u001b[0m\n\u001b[0;32m      1\u001b[0m negara \u001b[38;5;241m=\u001b[39m \u001b[38;5;124m'\u001b[39m\u001b[38;5;124mZimbabwe\u001b[39m\u001b[38;5;124m'\u001b[39m,\u001b[38;5;124m'\u001b[39m\u001b[38;5;124mJepang\u001b[39m\u001b[38;5;124m'\u001b[39m,\u001b[38;5;124m'\u001b[39m\u001b[38;5;124mSwiss\u001b[39m\u001b[38;5;124m'\u001b[39m,\u001b[38;5;124m'\u001b[39m\u001b[38;5;124mAustralia\u001b[39m\u001b[38;5;124m'\u001b[39m,\u001b[38;5;124m'\u001b[39m\u001b[38;5;124mCanada\u001b[39m\u001b[38;5;124m'\u001b[39m\n\u001b[0;32m      2\u001b[0m \u001b[38;5;28mprint\u001b[39m (negara)\n\u001b[1;32m----> 4\u001b[0m negara\u001b[38;5;241m.\u001b[39mindex(paris)\n",
      "\u001b[1;31mNameError\u001b[0m: name 'paris' is not defined"
     ]
    }
   ],
   "source": [
    "# index\n",
    "negara = 'Zimbabwe','Jepang','Swiss','Australia','Canada'\n",
    "print (negara)\n",
    "\n",
    "negara.index(paris)"
   ]
  },
  {
   "cell_type": "code",
   "execution_count": 32,
   "id": "a6ff9a72-6725-4679-a522-2196289dc78c",
   "metadata": {},
   "outputs": [
    {
     "name": "stdout",
     "output_type": "stream",
     "text": [
      "('Zimbabwe', 'Jepang', 'Swiss', 'Australia', 'Canada')\n"
     ]
    },
    {
     "ename": "AttributeError",
     "evalue": "'tuple' object has no attribute 'insert'",
     "output_type": "error",
     "traceback": [
      "\u001b[1;31m---------------------------------------------------------------------------\u001b[0m",
      "\u001b[1;31mAttributeError\u001b[0m                            Traceback (most recent call last)",
      "Cell \u001b[1;32mIn[32], line 5\u001b[0m\n\u001b[0;32m      2\u001b[0m negara \u001b[38;5;241m=\u001b[39m \u001b[38;5;124m'\u001b[39m\u001b[38;5;124mZimbabwe\u001b[39m\u001b[38;5;124m'\u001b[39m,\u001b[38;5;124m'\u001b[39m\u001b[38;5;124mJepang\u001b[39m\u001b[38;5;124m'\u001b[39m,\u001b[38;5;124m'\u001b[39m\u001b[38;5;124mSwiss\u001b[39m\u001b[38;5;124m'\u001b[39m,\u001b[38;5;124m'\u001b[39m\u001b[38;5;124mAustralia\u001b[39m\u001b[38;5;124m'\u001b[39m,\u001b[38;5;124m'\u001b[39m\u001b[38;5;124mCanada\u001b[39m\u001b[38;5;124m'\u001b[39m\n\u001b[0;32m      3\u001b[0m \u001b[38;5;28mprint\u001b[39m (negara)\n\u001b[1;32m----> 5\u001b[0m negara\u001b[38;5;241m.\u001b[39minsert(paris)\n",
      "\u001b[1;31mAttributeError\u001b[0m: 'tuple' object has no attribute 'insert'"
     ]
    }
   ],
   "source": [
    "# insert\n",
    "negara = 'Zimbabwe','Jepang','Swiss','Australia','Canada'\n",
    "print (negara)\n",
    "\n",
    "negara.insert(paris)"
   ]
  },
  {
   "cell_type": "code",
   "execution_count": 42,
   "id": "1537fba1-5dd3-42e9-9e4b-2638bcf06a4f",
   "metadata": {},
   "outputs": [
    {
     "name": "stdout",
     "output_type": "stream",
     "text": [
      "('Zimbabwe', 'Jepang', 'Swiss', 'Australia', 'Canada')\n"
     ]
    },
    {
     "ename": "NameError",
     "evalue": "name 'jepang' is not defined",
     "output_type": "error",
     "traceback": [
      "\u001b[1;31m---------------------------------------------------------------------------\u001b[0m",
      "\u001b[1;31mNameError\u001b[0m                                 Traceback (most recent call last)",
      "Cell \u001b[1;32mIn[42], line 5\u001b[0m\n\u001b[0;32m      2\u001b[0m negara \u001b[38;5;241m=\u001b[39m \u001b[38;5;124m'\u001b[39m\u001b[38;5;124mZimbabwe\u001b[39m\u001b[38;5;124m'\u001b[39m,\u001b[38;5;124m'\u001b[39m\u001b[38;5;124mJepang\u001b[39m\u001b[38;5;124m'\u001b[39m,\u001b[38;5;124m'\u001b[39m\u001b[38;5;124mSwiss\u001b[39m\u001b[38;5;124m'\u001b[39m,\u001b[38;5;124m'\u001b[39m\u001b[38;5;124mAustralia\u001b[39m\u001b[38;5;124m'\u001b[39m,\u001b[38;5;124m'\u001b[39m\u001b[38;5;124mCanada\u001b[39m\u001b[38;5;124m'\u001b[39m\n\u001b[0;32m      3\u001b[0m \u001b[38;5;28mprint\u001b[39m (negara)\n\u001b[1;32m----> 5\u001b[0m \u001b[38;5;28;01mdel\u001b[39;00m((jepang))\n",
      "\u001b[1;31mNameError\u001b[0m: name 'jepang' is not defined"
     ]
    }
   ],
   "source": [
    "# insert\n",
    "negara = 'Zimbabwe','Jepang','Swiss','Australia','Canada'\n",
    "print (negara)\n",
    "\n",
    "del((jepang))"
   ]
  },
  {
   "cell_type": "code",
   "execution_count": 44,
   "id": "19bfb095-058d-4b57-971c-3e6042d8f40f",
   "metadata": {},
   "outputs": [
    {
     "name": "stdout",
     "output_type": "stream",
     "text": [
      "data tuple\n",
      "('Zimbabwe', 'Jepang', 'Swiss', 'Australia', 'Canada')\n",
      "jepang pada item tuple\n",
      "False\n",
      "lebanon pada item tuple\n",
      "False\n"
     ]
    }
   ],
   "source": [
    "hari = ('Zimbabwe','Jepang','Swiss','Australia','Canada')\n",
    "print('data tuple')\n",
    "print(hari)\n",
    "\n",
    "print('jepang pada item tuple')\n",
    "print('jepang' in negara)\n",
    "print('lebanon pada item tuple')\n",
    "print('lebanon' in negara)"
   ]
  },
  {
   "cell_type": "code",
   "execution_count": null,
   "id": "7e115335-6be4-4ef9-a192-11cb11be5649",
   "metadata": {},
   "outputs": [],
   "source": []
  }
 ],
 "metadata": {
  "kernelspec": {
   "display_name": "Python 3 (ipykernel)",
   "language": "python",
   "name": "python3"
  },
  "language_info": {
   "codemirror_mode": {
    "name": "ipython",
    "version": 3
   },
   "file_extension": ".py",
   "mimetype": "text/x-python",
   "name": "python",
   "nbconvert_exporter": "python",
   "pygments_lexer": "ipython3",
   "version": "3.12.4"
  }
 },
 "nbformat": 4,
 "nbformat_minor": 5
}
