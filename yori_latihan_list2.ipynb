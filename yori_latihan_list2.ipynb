{
 "cells": [
  {
   "cell_type": "code",
   "execution_count": 1,
   "id": "03fbc7cd-9dc2-4746-b51d-3cd27d0bca06",
   "metadata": {},
   "outputs": [
    {
     "name": "stdout",
     "output_type": "stream",
     "text": [
      "Elemen Awal\n",
      "['Zimbabwe', 'Jepang', 'Swiss', 'Australia', 'Canada']\n",
      "[2, 3, 5, 7, 11]\n",
      "setelah append negara :\n",
      "['Zimbabwe', 'Jepang', 'Swiss', 'Australia', 'Canada', 'Russia']\n",
      "setelah append prima :\n",
      "[2, 3, 5, 7, 11, 29]\n",
      "setelah insert negara :\n",
      "['Zimbabwe', 'Sweden', 'Jepang', 'Swiss', 'Australia', 'Canada', 'Russia']\n",
      "setelah insert prima :\n",
      "[2, 23, 3, 5, 7, 11, 29]\n",
      "setelah extend negara :\n",
      "['Zimbabwe', 'Sweden', 'Jepang', 'Swiss', 'Australia', 'Canada', 'Russia', 'Kenya', 'Ghana']\n",
      "setelah extend prima :\n",
      "[2, 23, 3, 5, 7, 11, 29, 41, 43, 47]\n"
     ]
    }
   ],
   "source": [
    "negara = ['Zimbabwe','Jepang','Swiss','Australia','Canada']\n",
    "prima = [2,3,5,7,11]\n",
    "\n",
    "# membuat list\n",
    "negara = ['Zimbabwe','Jepang','Swiss','Australia','Canada']\n",
    "prima = [2,3,5,7,11]\n",
    "print('Elemen Awal')\n",
    "print(negara)\n",
    "print(prima)\n",
    "\n",
    "#menggunakan metode append (); untuk menambahkan tunggal diakhir dibagian akhir list\n",
    "negara.append('Russia')\n",
    "print('setelah append negara :')\n",
    "print(negara)\n",
    "prima.append(29)\n",
    "print('setelah append prima :')\n",
    "print(prima)\n",
    "\n",
    "#menggunkakan metode insert (); untuk menambahkan elemen tunggal diindeks/posisi tertentu\n",
    "negara.insert(1, 'Sweden')\n",
    "print('setelah insert negara :')\n",
    "print(negara)\n",
    "prima.insert(1, 23)\n",
    "print('setelah insert prima :')\n",
    "print(prima)\n",
    "\n",
    "#menggunakan metode extend(); untuk menyambung atau menggabung suatu list dengan list lainnya \n",
    "negara.extend(['Kenya', 'Ghana'])\n",
    "print('setelah extend negara :')\n",
    "print(negara)\n",
    "prima.extend((41, 43, 47))\n",
    "print('setelah extend prima :')\n",
    "print(prima)"
   ]
  },
  {
   "cell_type": "code",
   "execution_count": null,
   "id": "19ced043-d71a-497b-8e8c-5dd578def11b",
   "metadata": {},
   "outputs": [],
   "source": []
  }
 ],
 "metadata": {
  "kernelspec": {
   "display_name": "Python 3 (ipykernel)",
   "language": "python",
   "name": "python3"
  },
  "language_info": {
   "codemirror_mode": {
    "name": "ipython",
    "version": 3
   },
   "file_extension": ".py",
   "mimetype": "text/x-python",
   "name": "python",
   "nbconvert_exporter": "python",
   "pygments_lexer": "ipython3",
   "version": "3.12.4"
  }
 },
 "nbformat": 4,
 "nbformat_minor": 5
}
