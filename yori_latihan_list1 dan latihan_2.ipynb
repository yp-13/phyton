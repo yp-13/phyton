{
 "cells": [
  {
   "cell_type": "markdown",
   "id": "7f00d7e3-1378-4233-867e-9e19a4fc1a10",
   "metadata": {},
   "source": [
    "# LATIHAN1"
   ]
  },
  {
   "cell_type": "code",
   "execution_count": 138,
   "id": "48c6c0e0-d0d6-44e3-9451-bdefb2707b84",
   "metadata": {},
   "outputs": [
    {
     "name": "stdout",
     "output_type": "stream",
     "text": [
      "INDEX\n",
      "Swiss\n",
      "11\n",
      "Zimbabwe\n",
      "7\n",
      "Jepang\n",
      "Banyaknya Elemen\n",
      "10\n"
     ]
    }
   ],
   "source": [
    "#Bilangan Prima (5 Bilangan)\n",
    "#type String (5 Elemen)\n",
    "#Gunakann Perintah : (Index, (ambil min.3 elemen), Slicing (ambil min.3),Gabung (tambah min.3 elemen) \n",
    "\n",
    "#index\n",
    "negara = ['Zimbabwe','Jepang','Swiss','Australia','Canada']\n",
    "prima = [2,3,5,7,11]\n",
    "print ('INDEX')\n",
    "print (negara[-3])\n",
    "print (prima[4])\n",
    "print (negara[0])\n",
    "print (prima[3])\n",
    "print (negara[1+-0])\n",
    "print ('Banyaknya Elemen')\n",
    "print (len(negara+prima))\n"
   ]
  },
  {
   "cell_type": "code",
   "execution_count": 140,
   "id": "e938dd2a-de00-4021-a37e-1e1516403bba",
   "metadata": {},
   "outputs": [
    {
     "name": "stdout",
     "output_type": "stream",
     "text": [
      "SLICING\n",
      "['Zimbabwe', 'Jepang', 'Swiss']\n",
      "[5, 7, 11]\n"
     ]
    }
   ],
   "source": [
    "negara = ['Zimbabwe','Jepang','Swiss','Australia','Canada']\n",
    "prima = [2,3,5,7,11]\n",
    "#Slicing \n",
    "print ('SLICING')\n",
    "print (negara[:-2])\n",
    "print (prima[2:])"
   ]
  },
  {
   "cell_type": "code",
   "execution_count": 142,
   "id": "3a07e1df-2730-476b-b17c-de8fb069b346",
   "metadata": {},
   "outputs": [
    {
     "name": "stdout",
     "output_type": "stream",
     "text": [
      "Sebelum Digabung\n",
      "['Zimbabwe', 'Jepang', 'Swiss', 'Australia', 'Canada'] [2, 3, 5, 7, 11]\n",
      "Sesudah Digabung\n",
      "['Zimbabwe', 'Jepang', 'Swiss', 'Australia', 'Canada', 'Senegal', 'kongo', 'Africa']\n",
      "[2, 3, 5, 7, 11, 13, 17, 19]\n"
     ]
    }
   ],
   "source": [
    "negara = ['Zimbabwe','Jepang','Swiss','Australia','Canada']\n",
    "prima = [2,3,5,7,11]\n",
    "#Penggabungan\n",
    "print ('Sebelum Digabung')\n",
    "print (negara,prima)\n",
    "print ('Sesudah Digabung')\n",
    "print (negara+['Senegal','kongo','Africa'])\n",
    "print (prima+[13,17,19])\n"
   ]
  },
  {
   "cell_type": "code",
   "execution_count": 110,
   "id": "0750bc00-43dd-432b-a177-36772637365f",
   "metadata": {},
   "outputs": [
    {
     "name": "stdout",
     "output_type": "stream",
     "text": [
      "[2, 'Zimbabwe', 3, 'Jepang', 5, 'Swiss', 7, 'Australia', 11, 'Canada']\n",
      "2\n",
      "Zimbabwe\n",
      "3\n",
      "Jepang\n",
      "5\n",
      "Swiss\n",
      "7\n",
      "Australia\n",
      "11\n",
      "Canada\n"
     ]
    }
   ],
   "source": [
    "#Dalam Python, nilai elemen didalam list bisa berasal dari tipe data yang berbeda\n",
    "\n",
    "list = [2, 'Zimbabwe', 3, 'Jepang', 5, 'Swiss', 7, 'Australia', 11, 'Canada']\n",
    "print(list)\n",
    "print(list[0])\n",
    "print(list[1])\n",
    "print(list[2])\n",
    "print(list[3])\n",
    "print(list[4])\n",
    "print(list[5])\n",
    "print(list[6])\n",
    "print(list[7])\n",
    "print(list[8])\n",
    "print(list[9])"
   ]
  },
  {
   "cell_type": "markdown",
   "id": "7803be81-7729-447b-a6df-3ba6f828c879",
   "metadata": {
    "scrolled": true
   },
   "source": [
    "# LATIHAN2"
   ]
  },
  {
   "cell_type": "code",
   "execution_count": 164,
   "id": "0e881340-3c4c-4af9-b16c-26a4d309d16f",
   "metadata": {},
   "outputs": [
    {
     "name": "stdout",
     "output_type": "stream",
     "text": [
      "Elemen Awal\n",
      "['Zimbabwe', 'Jepang', 'Swiss', 'Australia', 'Canada']\n",
      "[2, 3, 5, 7, 11]\n",
      "\n",
      "setelah append :\n",
      "['Zimbabwe', 'Jepang', 'Swiss', 'Australia', 'Canada', 'Russia']\n",
      "setelah append :\n",
      "[2, 3, 5, 7, 11, [29, 31, 37]]\n",
      "setelah insert :\n",
      "['Zimbabwe', 'Sweden', 'Jepang', 'Swiss', 'Australia', 'Canada', 'Russia']\n",
      "setelah insert :\n",
      "[2, [23], 3, 5, 7, 11, [29, 31, 37]]\n",
      "setelah extend :\n",
      "['Zimbabwe', 'Sweden', 'Jepang', 'Swiss', 'Australia', 'Canada', 'Russia', 'Kenya', 'Ghana']\n",
      "setelah extend :\n",
      "[2, [23], 3, 5, 7, 11, [29, 31, 37], 41, 43, 47]\n"
     ]
    }
   ],
   "source": [
    "negara = ['Zimbabwe','Jepang','Swiss','Australia','Canada']\n",
    "prima = [2,3,5,7,11]\n",
    "\n",
    "# membuat list\n",
    "negara = ['Zimbabwe','Jepang','Swiss','Australia','Canada']\n",
    "prima = [2,3,5,7,11]\n",
    "print('Elemen Awal')\n",
    "print(negara)\n",
    "print(prima)\n",
    "\n",
    "#menggunakan metode append (); untuk menambahkan tunggal diakhir dibagian akhir list\n",
    "negara.append('Russia')\n",
    "print('\\nsetelah append :')\n",
    "print(negara)\n",
    "prima.append([29,31,37])\n",
    "print('setelah append :')\n",
    "print(prima)\n",
    "\n",
    "#menggunkakan metode insert (); untuk menambahkan elemen tunggal diindeks/posisi tertentu\n",
    "negara.insert(1, 'Sweden')\n",
    "print('setelah insert :')\n",
    "print(negara)\n",
    "prima.insert(1, [23])\n",
    "print('setelah insert :')\n",
    "print(prima)\n",
    "\n",
    "#menggunakan metode extend(); untuk menyambung atau menggabung suatu list dengan list lainnya \n",
    "negara.extend(['Kenya', 'Ghana'])\n",
    "print('setelah extend :')\n",
    "print(negara)\n",
    "prima.extend([41, 43, 47])\n",
    "print('setelah extend :')\n",
    "print(prima)"
   ]
  },
  {
   "cell_type": "code",
   "execution_count": null,
   "id": "45b9e9fb-3e98-4008-adbd-fbc4f15461c5",
   "metadata": {},
   "outputs": [],
   "source": []
  }
 ],
 "metadata": {
  "kernelspec": {
   "display_name": "Python 3 (ipykernel)",
   "language": "python",
   "name": "python3"
  },
  "language_info": {
   "codemirror_mode": {
    "name": "ipython",
    "version": 3
   },
   "file_extension": ".py",
   "mimetype": "text/x-python",
   "name": "python",
   "nbconvert_exporter": "python",
   "pygments_lexer": "ipython3",
   "version": "3.12.4"
  }
 },
 "nbformat": 4,
 "nbformat_minor": 5
}
